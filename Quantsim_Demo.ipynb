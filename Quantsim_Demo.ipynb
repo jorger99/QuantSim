{
 "cells": [
  {
   "cell_type": "code",
   "execution_count": null,
   "metadata": {},
   "outputs": [],
   "source": [
    "%load_ext autoreload\n",
    "%autoreload 2\n",
    "\n",
    "import QuantSimObj as qsj\n",
    "import SimPlayground as spg\n",
    "import Visualizer as vis\n",
    "\n",
    "\n",
    "\"\"\"\n",
    "This notebook will demonstrate the usage of this library!\n",
    "\n",
    "CODE WORKFLOW:\n",
    "\n",
    "|               |              |                    |\n",
    "|     CLASS     |              |      PLOTTING      |\n",
    "|               |    pre-sim   |                    |\n",
    "|   'quantum    |     - - >    | 'visualization.py' |\n",
    "|    obj.py'    |     plots    |                    |\n",
    "|               |              |                    |\n",
    "\n",
    "    feeds into                   /\\\n",
    "        |                        /\n",
    "        V                      /\n",
    "                             /    post-sim plots\n",
    "|                 |        /\n",
    "|    SIM ENVIR    |      /\n",
    "|                 |\n",
    "| 'playground.py' |\n",
    "|                 |\n",
    "\n",
    "\"\"\"\n",
    "\n",
    "pass\n",
    "\n"
   ]
  },
  {
   "cell_type": "code",
   "execution_count": null,
   "metadata": {},
   "outputs": [],
   "source": [
    "import QuantSimObj as qsj\n",
    "ISW_test = qsj.QuantSim()\n",
    "\n",
    "#print(ISW_test.wfn)\n",
    "#print(ISW_test.energy)\n",
    "\n",
    "ISW_test.pick_exp_vals()\n",
    "ISW_test.info()"
   ]
  },
  {
   "cell_type": "code",
   "execution_count": null,
   "metadata": {},
   "outputs": [],
   "source": []
  }
 ],
 "metadata": {
  "kernelspec": {
   "display_name": "Python 3",
   "language": "python",
   "name": "python3"
  },
  "language_info": {
   "codemirror_mode": {
    "name": "ipython",
    "version": 3
   },
   "file_extension": ".py",
   "mimetype": "text/x-python",
   "name": "python",
   "nbconvert_exporter": "python",
   "pygments_lexer": "ipython3",
   "version": "3.7.4"
  }
 },
 "nbformat": 4,
 "nbformat_minor": 5
}
