{
 "cells": [
  {
   "cell_type": "code",
   "execution_count": 1,
   "id": "3bf4c83f-addf-42f0-a37f-8c5168751b45",
   "metadata": {},
   "outputs": [
    {
     "data": {
      "text/plain": [
       "' \\n\\n\\n\\n'"
      ]
     },
     "execution_count": 1,
     "metadata": {},
     "output_type": "execute_result"
    }
   ],
   "source": [
    "\"\"\" \n",
    "\n",
    "|               |              |                    |\n",
    "|     CLASS     |              |      PLOTTING      |\n",
    "|               |    pre-sim   |                    |\n",
    "|   'quantum    |     - - >    | 'visualization.py' |\n",
    "|    obj.py'    |     plots    |                    |\n",
    "|               |              |                    |\n",
    "\n",
    "    feeds into                   /\\\n",
    "        |                        /\n",
    "        V                      /\n",
    "                             /    post-sim plots\n",
    "|                 |        /\n",
    "|    SIM ENVIR    |      /\n",
    "|                 |\n",
    "| 'playground.py' |\n",
    "|                 |\n",
    "\n",
    "\"\"\"\n",
    "\n"
   ]
  },
  {
   "cell_type": "code",
   "execution_count": null,
   "id": "15fe83e1-3511-4ba4-9273-51176d59b1c5",
   "metadata": {},
   "outputs": [],
   "source": []
  }
 ],
 "metadata": {
  "kernelspec": {
   "display_name": "Python 3 (ipykernel)",
   "language": "python",
   "name": "python3"
  },
  "language_info": {
   "codemirror_mode": {
    "name": "ipython",
    "version": 3
   },
   "file_extension": ".py",
   "mimetype": "text/x-python",
   "name": "python",
   "nbconvert_exporter": "python",
   "pygments_lexer": "ipython3",
   "version": "3.9.7"
  }
 },
 "nbformat": 4,
 "nbformat_minor": 5
}
