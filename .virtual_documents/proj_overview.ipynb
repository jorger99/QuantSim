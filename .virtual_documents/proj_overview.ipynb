""" 

|               |              |                    |
|     CLASS     |              |      PLOTTING      |
|               |    pre-sim   |                    |
|   'quantum    |     - - >    | 'visualization.py' |
|    obj.py'    |     plots    |                    |
|               |              |                    |

    feeds into                   /\
        |                        /
        V                      /
                             /    post-sim plots
|                 |        /
|    SIM ENVIR    |      /
|                 |
| 'playground.py' |
|                 |

"""

pass



