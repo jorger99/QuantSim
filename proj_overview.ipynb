{
 "cells": [
  {
   "cell_type": "code",
   "execution_count": null,
   "id": "6fbc30da-947b-48b5-aae9-2e87222203e9",
   "metadata": {},
   "outputs": [],
   "source": [
    "\"\"\" \n",
    "\n",
    "|               |              |                    |\n",
    "|     CLASS     |              |      PLOTTING      |\n",
    "|               |    pre-sim   |                    |\n",
    "|   'quantum    |     - - >    | 'visualization.py' |\n",
    "|    obj.py'    |     plots    |                    |\n",
    "|               |              |                    |\n",
    "\n",
    "    feeds into                   /\\\n",
    "        |                        /\n",
    "        V                      /\n",
    "                             /    post-sim plots\n",
    "|                 |        /\n",
    "|    SIM ENVIR    |      /\n",
    "|                 |\n",
    "| 'playground.py' |\n",
    "|                 |\n",
    "\n",
    "\"\"\"\n",
    "\n",
    "pass"
   ]
  },
  {
   "cell_type": "code",
   "execution_count": null,
   "id": "b1e7960b-d6a3-4466-8675-c84411f2833c",
   "metadata": {},
   "outputs": [],
   "source": []
  }
 ],
 "metadata": {
  "kernelspec": {
   "display_name": "Python 3 (ipykernel)",
   "language": "python",
   "name": "python3"
  },
  "language_info": {
   "codemirror_mode": {
    "name": "ipython",
    "version": 3
   },
   "file_extension": ".py",
   "mimetype": "text/x-python",
   "name": "python",
   "nbconvert_exporter": "python",
   "pygments_lexer": "ipython3",
   "version": "3.9.7"
  }
 },
 "nbformat": 4,
 "nbformat_minor": 5
}
