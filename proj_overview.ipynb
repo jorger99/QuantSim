{
 "cells": [
  {
   "cell_type": "code",
   "execution_count": 1,
   "id": "6fbc30da-947b-48b5-aae9-2e87222203e9",
   "metadata": {},
   "outputs": [
    {
     "name": "stdout",
     "output_type": "stream",
     "text": [
      "test\n"
     ]
    },
    {
     "ename": "SyntaxError",
     "evalue": "EOF while scanning triple-quoted string literal (Visualizer.py, line 9)",
     "output_type": "error",
     "traceback": [
      "Traceback \u001b[0;36m(most recent call last)\u001b[0m:\n",
      "  File \u001b[1;32m~/opt/anaconda3/envs/phys5070/lib/python3.9/site-packages/IPython/core/interactiveshell.py:3361\u001b[0m in \u001b[1;35mrun_code\u001b[0m\n    exec(code_obj, self.user_global_ns, self.user_ns)\n",
      "\u001b[0;36m  Input \u001b[0;32mIn [1]\u001b[0;36m in \u001b[0;35m<cell line: 3>\u001b[0;36m\u001b[0m\n\u001b[0;31m    import Visualizer as vis\u001b[0m\n",
      "\u001b[0;36m  File \u001b[0;32m~/Desktop/Jorge/quantumsim/Visualizer.py:9\u001b[0;36m\u001b[0m\n\u001b[0;31m    \"\"\u001b[0m\n\u001b[0m      \n^\u001b[0m\n\u001b[0;31mSyntaxError\u001b[0m\u001b[0;31m:\u001b[0m EOF while scanning triple-quoted string literal\n"
     ]
    }
   ],
   "source": [
    "import QuantSimObj as qsj\n",
    "import SimPlayground as spg\n",
    "import Visualizer as vis\n",
    "\n",
    "\"\"\"\n",
    "\n",
    "This notebook will demonstrate the usage of this library!\n",
    "\n",
    "CODE WORKFLOW:\n",
    "\n",
    "|               |              |                    |\n",
    "|     CLASS     |              |      PLOTTING      |\n",
    "|               |    pre-sim   |                    |\n",
    "|   'quantum    |     - - >    | 'visualization.py' |\n",
    "|    obj.py'    |     plots    |                    |\n",
    "|               |              |                    |\n",
    "\n",
    "    feeds into                   /\\\n",
    "        |                        /\n",
    "        V                      /\n",
    "                             /    post-sim plots\n",
    "|                 |        /\n",
    "|    SIM ENVIR    |      /\n",
    "|                 |\n",
    "| 'playground.py' |\n",
    "|                 |\n",
    "\n",
    "\"\"\"\n",
    "\n",
    "pass"
   ]
  },
  {
   "cell_type": "code",
   "execution_count": 3,
   "id": "b1e7960b-d6a3-4466-8675-c84411f2833c",
   "metadata": {},
   "outputs": [
    {
     "name": "stdout",
     "output_type": "stream",
     "text": [
      "test\n"
     ]
    }
   ],
   "source": [
    "qsj.test_method(\"test\")"
   ]
  },
  {
   "cell_type": "code",
   "execution_count": null,
   "id": "dd53a201-9e5d-4cbc-b0ca-d3c2aeb4313d",
   "metadata": {},
   "outputs": [],
   "source": []
  }
 ],
 "metadata": {
  "kernelspec": {
   "display_name": "Python 3 (ipykernel)",
   "language": "python",
   "name": "python3"
  },
  "language_info": {
   "codemirror_mode": {
    "name": "ipython",
    "version": 3
   },
   "file_extension": ".py",
   "mimetype": "text/x-python",
   "name": "python",
   "nbconvert_exporter": "python",
   "pygments_lexer": "ipython3",
   "version": "3.9.7"
  }
 },
 "nbformat": 4,
 "nbformat_minor": 5
}
