{
 "cells": [
  {
   "cell_type": "code",
   "execution_count": null,
   "id": "03707b9c",
   "metadata": {},
   "outputs": [],
   "source": [
    "%load_ext autoreload\n",
    "%autoreload 2\n",
    "\n",
    "# use autoreload to import our .py files every time we run a cell, in case of changes\n",
    " \n",
    "import QuantSimObj as qsj\n",
    "import QuantVisualizer as qvs"
   ]
  },
  {
   "cell_type": "code",
   "execution_count": null,
   "id": "7aae612c-e09c-4660-8d06-948a06561270",
   "metadata": {},
   "outputs": [],
   "source": [
    "test_obj = qsj.QuantSim()\n",
    "\n",
    "# practice using commands on test_obj! see QSJ and QVS docstrings"
   ]
  },
  {
   "cell_type": "code",
   "execution_count": null,
   "id": "927a488a-987a-4d04-b027-412b8e4d83ee",
   "metadata": {},
   "outputs": [],
   "source": [
    "# premade ISW test\n",
    "inf_sq_well_obj = qsj.QuantSim(choice=\"ISW\")\n",
    "\n",
    "#print(ISW_test.wfn)\n",
    "#print(ISW_test.energy)\n",
    "\n",
    "inf_sq_well_obj.info()\n",
    "qvs.simulate(inf_sq_well_obj)\n",
    "qvs.plot_func(inf_sq_well_obj)"
   ]
  },
  {
   "cell_type": "code",
   "execution_count": null,
   "id": "ffa2977c",
   "metadata": {},
   "outputs": [],
   "source": [
    "# premade QHO test\n",
    "parab_well_obj = qsj.QuantSim(choice=\"QHO\")\n",
    "\n",
    "#print(ISW_test.wfn)\n",
    "#print(ISW_test.energy)\n",
    "\n",
    "parab_well_obj.info()\n",
    "qvs.simulate(parab_well_obj)\n",
    "qvs.plot_func(parab_well_obj)"
   ]
  }
 ],
 "metadata": {
  "kernelspec": {
   "display_name": "Python 3 (ipykernel)",
   "language": "python",
   "name": "python3"
  },
  "language_info": {
   "codemirror_mode": {
    "name": "ipython",
    "version": 3
   },
   "file_extension": ".py",
   "mimetype": "text/x-python",
   "name": "python",
   "nbconvert_exporter": "python",
   "pygments_lexer": "ipython3",
   "version": "3.10.4"
  }
 },
 "nbformat": 4,
 "nbformat_minor": 5
}
